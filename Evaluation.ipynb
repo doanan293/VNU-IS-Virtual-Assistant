{
 "cells": [
  {
   "cell_type": "code",
   "execution_count": 1,
   "metadata": {},
   "outputs": [
    {
     "name": "stderr",
     "output_type": "stream",
     "text": [
      "/home/admin-hieunn/important/VNUIS-Chatbot/.venv/lib/python3.10/site-packages/sentence_transformers/cross_encoder/CrossEncoder.py:13: TqdmWarning: IProgress not found. Please update jupyter and ipywidgets. See https://ipywidgets.readthedocs.io/en/stable/user_install.html\n",
      "  from tqdm.autonotebook import tqdm, trange\n",
      "2025-01-17 14:03:56,545 - INFO - Load pretrained SentenceTransformer: BAAI/bge-m3\n"
     ]
    },
    {
     "name": "stdout",
     "output_type": "stream",
     "text": [
      "Using cuda\n",
      "Loading models... \n"
     ]
    },
    {
     "name": "stderr",
     "output_type": "stream",
     "text": [
      "2025-01-17 14:04:00,943 - INFO - Done TTS\n",
      "Loading checkpoint shards: 100%|██████████| 2/2 [00:00<00:00,  2.20it/s]\n"
     ]
    },
    {
     "name": "stdout",
     "output_type": "stream",
     "text": [
      "Models Loaded!\n"
     ]
    }
   ],
   "source": [
    "from chatbot import ask\n",
    "import pandas as pd\n",
    "import random\n",
    "# queries = pd.read_csv(filepath_or_buffer = \"Data/source/vnuis.csv\",usecols =[\"Question 1\"])\n",
    "# queries.dropna(inplace=True)\n",
    "# queries.drop_duplicates(inplace=True)\n",
    "# queries = queries[\"Question 1\"].to_list()\n",
    "\n",
    "# queries = random.sample(queries, 50)\n",
    "queries = [\"Bạn có biết thầy Nguyễn Doãn Đông không?\"]\n",
    "list_result = []"
   ]
  },
  {
   "cell_type": "code",
   "execution_count": 2,
   "metadata": {},
   "outputs": [
    {
     "name": "stderr",
     "output_type": "stream",
     "text": [
      "Batches: 100%|██████████| 1/1 [00:00<00:00,  9.45it/s]"
     ]
    },
    {
     "name": "stdout",
     "output_type": "stream",
     "text": [
      "tensor([0.6211, 0.6211, 0.6172, 0.6055, 0.5977, 0.5938, 0.5820, 0.5469, 0.5391,\n",
      "        0.5273, 0.4316, 0.4297, 0.4297, 0.4141, 0.4141, 0.4141, 0.4121, 0.4121,\n",
      "        0.4102, 0.4102], device='cuda:0', dtype=torch.bfloat16)\n"
     ]
    },
    {
     "name": "stderr",
     "output_type": "stream",
     "text": [
      "\n",
      "The attention mask is not set and cannot be inferred from input because pad token is same as eos token. As a consequence, you may observe unexpected behavior. Please pass your input's `attention_mask` to obtain reliable results.\n",
      "Starting from v4.46, the `logits` model output will have the same type as the model (except at train time, where it will always be FP32)\n"
     ]
    }
   ],
   "source": [
    "for query in queries:\n",
    "    a = ask(query)\n",
    "    list_result.append(a)\n",
    "array_2d = list(zip(queries, list_result))\n",
    "\n",
    "df_result = pd.DataFrame(data = array_2d, columns=[\"Question\", \"Answer\"])\n",
    "# df_result.to_csv(path_or_buf = \"Data/Evaluation/evaluation.csv\")"
   ]
  },
  {
   "cell_type": "code",
   "execution_count": null,
   "metadata": {},
   "outputs": [],
   "source": [
    "df_result"
   ]
  }
 ],
 "metadata": {
  "kernelspec": {
   "display_name": ".venv",
   "language": "python",
   "name": "python3"
  },
  "language_info": {
   "codemirror_mode": {
    "name": "ipython",
    "version": 3
   },
   "file_extension": ".py",
   "mimetype": "text/x-python",
   "name": "python",
   "nbconvert_exporter": "python",
   "pygments_lexer": "ipython3",
   "version": "3.10.12"
  }
 },
 "nbformat": 4,
 "nbformat_minor": 2
}

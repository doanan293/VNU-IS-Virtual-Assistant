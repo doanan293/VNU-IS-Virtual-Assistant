{
 "cells": [
  {
   "cell_type": "code",
   "execution_count": 1,
   "metadata": {},
   "outputs": [
    {
     "name": "stderr",
     "output_type": "stream",
     "text": [
      "/home/admin-hieunn/important/VNUIS-Chatbot/.venv/lib/python3.10/site-packages/sentence_transformers/cross_encoder/CrossEncoder.py:13: TqdmWarning: IProgress not found. Please update jupyter and ipywidgets. See https://ipywidgets.readthedocs.io/en/stable/user_install.html\n",
      "  from tqdm.autonotebook import tqdm, trange\n",
      "2025-01-17 11:51:50,825 - INFO - Load pretrained SentenceTransformer: BAAI/bge-m3\n"
     ]
    },
    {
     "name": "stdout",
     "output_type": "stream",
     "text": [
      "Using cuda\n",
      "Loading models... \n"
     ]
    },
    {
     "name": "stderr",
     "output_type": "stream",
     "text": [
      "2025-01-17 11:51:54,917 - INFO - Done TTS\n",
      "Loading checkpoint shards: 100%|██████████| 2/2 [00:00<00:00,  2.23it/s]\n"
     ]
    },
    {
     "name": "stdout",
     "output_type": "stream",
     "text": [
      "Models Loaded!\n"
     ]
    }
   ],
   "source": [
    "from chatbot import ask\n",
    "import pandas as pd\n",
    "import random\n",
    "queries = pd.read_csv(filepath_or_buffer = \"Data/source/vnuis.csv\",usecols =[\"Question 1\"])\n",
    "queries.dropna(inplace=True)\n",
    "queries.drop_duplicates(inplace=True)\n",
    "queries = queries[\"Question 1\"].to_list()\n",
    "\n",
    "queries = random.sample(queries, 50)\n",
    "list_result = []"
   ]
  },
  {
   "cell_type": "code",
   "execution_count": 2,
   "metadata": {},
   "outputs": [
    {
     "name": "stderr",
     "output_type": "stream",
     "text": [
      "Batches: 100%|██████████| 1/1 [00:00<00:00, 10.82it/s]"
     ]
    },
    {
     "name": "stdout",
     "output_type": "stream",
     "text": [
      "tensor([0.7461, 0.7422, 0.7422, 0.7383, 0.6719, 0.6602, 0.6602, 0.6562, 0.6523,\n",
      "        0.6484, 0.6484, 0.6445, 0.6445, 0.6406, 0.6367, 0.6328, 0.6289, 0.6289,\n",
      "        0.6250, 0.6250], device='cuda:0', dtype=torch.bfloat16)\n"
     ]
    },
    {
     "name": "stderr",
     "output_type": "stream",
     "text": [
      "\n",
      "The attention mask is not set and cannot be inferred from input because pad token is same as eos token. As a consequence, you may observe unexpected behavior. Please pass your input's `attention_mask` to obtain reliable results.\n",
      "Starting from v4.46, the `logits` model output will have the same type as the model (except at train time, where it will always be FP32)\n",
      "Batches: 100%|██████████| 1/1 [00:00<00:00, 144.21it/s]\n"
     ]
    },
    {
     "name": "stdout",
     "output_type": "stream",
     "text": [
      "tensor([0.8750, 0.8516, 0.8359, 0.8164, 0.7969, 0.7773, 0.7656, 0.7656, 0.7500,\n",
      "        0.7344, 0.7344, 0.7188, 0.7070, 0.6992, 0.6953, 0.6914, 0.6914, 0.6875,\n",
      "        0.6875, 0.6836], device='cuda:0', dtype=torch.bfloat16)\n"
     ]
    },
    {
     "name": "stderr",
     "output_type": "stream",
     "text": [
      "Batches: 100%|██████████| 1/1 [00:00<00:00, 178.97it/s]\n"
     ]
    },
    {
     "name": "stdout",
     "output_type": "stream",
     "text": [
      "tensor([0.7500, 0.7266, 0.7227, 0.7188, 0.7109, 0.6523, 0.6328, 0.6289, 0.6289,\n",
      "        0.6250, 0.6211, 0.6211, 0.6211, 0.6172, 0.6133, 0.6133, 0.6133, 0.6133,\n",
      "        0.6094, 0.6094], device='cuda:0', dtype=torch.bfloat16)\n"
     ]
    },
    {
     "name": "stderr",
     "output_type": "stream",
     "text": [
      "Batches: 100%|██████████| 1/1 [00:00<00:00, 228.32it/s]\n"
     ]
    },
    {
     "name": "stdout",
     "output_type": "stream",
     "text": [
      "tensor([0.7383, 0.7344, 0.7188, 0.7148, 0.6445, 0.6328, 0.6172, 0.6094, 0.6094,\n",
      "        0.6094, 0.6055, 0.6016, 0.6016, 0.6016, 0.5977, 0.5938, 0.5898, 0.5898,\n",
      "        0.5898, 0.5859], device='cuda:0', dtype=torch.bfloat16)\n"
     ]
    },
    {
     "name": "stderr",
     "output_type": "stream",
     "text": [
      "Batches: 100%|██████████| 1/1 [00:00<00:00, 224.20it/s]\n"
     ]
    },
    {
     "name": "stdout",
     "output_type": "stream",
     "text": [
      "tensor([0.7891, 0.7500, 0.7109, 0.7031, 0.6953, 0.6875, 0.6797, 0.6758, 0.6758,\n",
      "        0.6602, 0.6602, 0.6484, 0.6406, 0.6328, 0.6289, 0.6289, 0.6250, 0.6211,\n",
      "        0.6211, 0.6211], device='cuda:0', dtype=torch.bfloat16)\n"
     ]
    },
    {
     "name": "stderr",
     "output_type": "stream",
     "text": [
      "Batches: 100%|██████████| 1/1 [00:00<00:00, 88.67it/s]\n"
     ]
    },
    {
     "name": "stdout",
     "output_type": "stream",
     "text": [
      "tensor([0.7578, 0.7500, 0.7422, 0.7383, 0.7266, 0.7266, 0.7266, 0.7266, 0.7188,\n",
      "        0.7188, 0.7188, 0.7148, 0.7148, 0.7148, 0.7148, 0.7109, 0.7109, 0.7109,\n",
      "        0.7109, 0.7109], device='cuda:0', dtype=torch.bfloat16)\n"
     ]
    },
    {
     "name": "stderr",
     "output_type": "stream",
     "text": [
      "Batches: 100%|██████████| 1/1 [00:00<00:00, 238.07it/s]\n"
     ]
    },
    {
     "name": "stdout",
     "output_type": "stream",
     "text": [
      "tensor([0.7539, 0.7227, 0.7070, 0.7070, 0.7031, 0.6992, 0.6992, 0.6953, 0.6914,\n",
      "        0.5469, 0.5469, 0.5469, 0.5430, 0.5430, 0.5391, 0.5391, 0.5391, 0.5391,\n",
      "        0.5391, 0.5391], device='cuda:0', dtype=torch.bfloat16)\n"
     ]
    },
    {
     "name": "stderr",
     "output_type": "stream",
     "text": [
      "Batches: 100%|██████████| 1/1 [00:00<00:00, 224.35it/s]\n"
     ]
    },
    {
     "name": "stdout",
     "output_type": "stream",
     "text": [
      "tensor([0.7539, 0.7539, 0.7461, 0.7422, 0.7422, 0.7422, 0.7383, 0.7305, 0.7305,\n",
      "        0.6875, 0.5625, 0.5586, 0.5547, 0.5547, 0.5547, 0.5547, 0.5508, 0.5430,\n",
      "        0.5352, 0.5156], device='cuda:0', dtype=torch.bfloat16)\n"
     ]
    },
    {
     "name": "stderr",
     "output_type": "stream",
     "text": [
      "Batches: 100%|██████████| 1/1 [00:00<00:00, 224.02it/s]\n"
     ]
    },
    {
     "name": "stdout",
     "output_type": "stream",
     "text": [
      "tensor([0.6680, 0.6367, 0.6250, 0.6133, 0.6094, 0.6055, 0.6016, 0.6016, 0.6016,\n",
      "        0.5977, 0.5977, 0.5938, 0.5859, 0.5820, 0.5820, 0.5820, 0.5820, 0.5820,\n",
      "        0.5742, 0.5742], device='cuda:0', dtype=torch.bfloat16)\n"
     ]
    },
    {
     "name": "stderr",
     "output_type": "stream",
     "text": [
      "Batches: 100%|██████████| 1/1 [00:00<00:00, 224.40it/s]\n"
     ]
    },
    {
     "name": "stdout",
     "output_type": "stream",
     "text": [
      "tensor([0.6523, 0.6523, 0.6484, 0.6289, 0.6211, 0.6172, 0.6172, 0.6133, 0.6133,\n",
      "        0.6094, 0.6055, 0.6016, 0.5977, 0.5898, 0.5898, 0.5859, 0.5859, 0.5859,\n",
      "        0.5859, 0.5859], device='cuda:0', dtype=torch.bfloat16)\n"
     ]
    },
    {
     "name": "stderr",
     "output_type": "stream",
     "text": [
      "Batches: 100%|██████████| 1/1 [00:00<00:00, 231.44it/s]\n"
     ]
    },
    {
     "name": "stdout",
     "output_type": "stream",
     "text": [
      "tensor([0.7852, 0.7773, 0.7656, 0.7539, 0.7383, 0.7305, 0.7266, 0.7266, 0.7188,\n",
      "        0.7070, 0.7070, 0.7031, 0.7031, 0.6992, 0.6914, 0.6914, 0.6914, 0.6875,\n",
      "        0.6875, 0.6836], device='cuda:0', dtype=torch.bfloat16)\n"
     ]
    },
    {
     "name": "stderr",
     "output_type": "stream",
     "text": [
      "Batches: 100%|██████████| 1/1 [00:00<00:00, 229.13it/s]\n"
     ]
    },
    {
     "name": "stdout",
     "output_type": "stream",
     "text": [
      "tensor([0.7305, 0.7148, 0.7148, 0.7070, 0.6758, 0.6758, 0.6680, 0.6641, 0.6641,\n",
      "        0.6484, 0.6445, 0.6328, 0.6328, 0.6211, 0.6133, 0.6133, 0.6094, 0.6094,\n",
      "        0.6055, 0.6055], device='cuda:0', dtype=torch.bfloat16)\n"
     ]
    },
    {
     "name": "stderr",
     "output_type": "stream",
     "text": [
      "Batches: 100%|██████████| 1/1 [00:00<00:00, 227.19it/s]\n"
     ]
    },
    {
     "name": "stdout",
     "output_type": "stream",
     "text": [
      "tensor([0.7930, 0.7773, 0.7383, 0.7031, 0.6914, 0.6758, 0.6719, 0.6680, 0.6680,\n",
      "        0.6641, 0.6602, 0.6562, 0.6484, 0.6484, 0.6445, 0.6406, 0.6367, 0.6367,\n",
      "        0.6367, 0.6367], device='cuda:0', dtype=torch.bfloat16)\n"
     ]
    },
    {
     "name": "stderr",
     "output_type": "stream",
     "text": [
      "Batches: 100%|██████████| 1/1 [00:00<00:00, 237.77it/s]\n"
     ]
    },
    {
     "name": "stdout",
     "output_type": "stream",
     "text": [
      "tensor([0.7305, 0.7266, 0.7227, 0.7227, 0.7227, 0.7188, 0.7109, 0.6992, 0.6992,\n",
      "        0.6914, 0.6914, 0.6250, 0.5664, 0.5586, 0.5586, 0.5586, 0.5547, 0.5508,\n",
      "        0.5508, 0.5508], device='cuda:0', dtype=torch.bfloat16)\n"
     ]
    },
    {
     "name": "stderr",
     "output_type": "stream",
     "text": [
      "Batches: 100%|██████████| 1/1 [00:00<00:00, 219.80it/s]\n"
     ]
    },
    {
     "name": "stdout",
     "output_type": "stream",
     "text": [
      "tensor([0.7109, 0.6992, 0.6992, 0.6953, 0.6953, 0.6914, 0.6914, 0.6836, 0.6836,\n",
      "        0.6836, 0.6797, 0.6758, 0.6641, 0.6641, 0.6602, 0.6562, 0.6562, 0.6445,\n",
      "        0.6445, 0.6367], device='cuda:0', dtype=torch.bfloat16)\n"
     ]
    },
    {
     "name": "stderr",
     "output_type": "stream",
     "text": [
      "Batches: 100%|██████████| 1/1 [00:00<00:00, 185.31it/s]\n"
     ]
    },
    {
     "name": "stdout",
     "output_type": "stream",
     "text": [
      "tensor([0.8320, 0.8242, 0.7969, 0.7969, 0.7930, 0.7891, 0.7148, 0.7031, 0.7031,\n",
      "        0.6992, 0.6914, 0.6914, 0.6836, 0.6758, 0.6602, 0.6562, 0.6523, 0.6445,\n",
      "        0.6445, 0.6406], device='cuda:0', dtype=torch.bfloat16)\n"
     ]
    },
    {
     "name": "stderr",
     "output_type": "stream",
     "text": [
      "Batches: 100%|██████████| 1/1 [00:00<00:00, 220.46it/s]\n"
     ]
    },
    {
     "name": "stdout",
     "output_type": "stream",
     "text": [
      "tensor([0.7227, 0.6484, 0.6445, 0.6094, 0.6094, 0.5273, 0.5234, 0.5117, 0.4980,\n",
      "        0.4961, 0.4941, 0.4922, 0.4902, 0.4902, 0.4863, 0.4863, 0.4863, 0.4863,\n",
      "        0.4844, 0.4824], device='cuda:0', dtype=torch.bfloat16)\n"
     ]
    },
    {
     "name": "stderr",
     "output_type": "stream",
     "text": [
      "Batches: 100%|██████████| 1/1 [00:00<00:00, 224.19it/s]\n"
     ]
    },
    {
     "name": "stdout",
     "output_type": "stream",
     "text": [
      "tensor([0.7383, 0.7305, 0.7266, 0.7070, 0.6836, 0.6836, 0.6758, 0.6719, 0.6719,\n",
      "        0.6641, 0.6641, 0.6562, 0.6484, 0.6484, 0.6445, 0.6406, 0.6289, 0.6289,\n",
      "        0.6250, 0.6211], device='cuda:0', dtype=torch.bfloat16)\n"
     ]
    },
    {
     "name": "stderr",
     "output_type": "stream",
     "text": [
      "Batches: 100%|██████████| 1/1 [00:00<00:00, 238.76it/s]\n"
     ]
    },
    {
     "name": "stdout",
     "output_type": "stream",
     "text": [
      "tensor([0.7656, 0.7617, 0.7500, 0.7422, 0.7148, 0.7070, 0.7031, 0.6992, 0.6953,\n",
      "        0.6836, 0.6758, 0.6758, 0.6758, 0.6719, 0.6719, 0.6719, 0.6211, 0.6172,\n",
      "        0.6172, 0.6133], device='cuda:0', dtype=torch.bfloat16)\n"
     ]
    },
    {
     "name": "stderr",
     "output_type": "stream",
     "text": [
      "Batches: 100%|██████████| 1/1 [00:00<00:00, 217.37it/s]\n"
     ]
    },
    {
     "name": "stdout",
     "output_type": "stream",
     "text": [
      "tensor([0.8242, 0.7617, 0.7578, 0.7539, 0.7500, 0.7461, 0.7461, 0.7422, 0.7422,\n",
      "        0.7383, 0.7383, 0.7305, 0.7305, 0.7305, 0.7305, 0.7305, 0.7266, 0.7227,\n",
      "        0.7227, 0.7227], device='cuda:0', dtype=torch.bfloat16)\n"
     ]
    },
    {
     "name": "stderr",
     "output_type": "stream",
     "text": [
      "Batches: 100%|██████████| 1/1 [00:00<00:00, 219.47it/s]\n"
     ]
    },
    {
     "name": "stdout",
     "output_type": "stream",
     "text": [
      "tensor([0.7500, 0.7031, 0.6992, 0.6797, 0.6758, 0.6680, 0.6641, 0.6641, 0.6641,\n",
      "        0.6602, 0.6562, 0.6523, 0.6484, 0.6445, 0.6445, 0.6445, 0.6406, 0.6328,\n",
      "        0.6328, 0.6250], device='cuda:0', dtype=torch.bfloat16)\n"
     ]
    },
    {
     "name": "stderr",
     "output_type": "stream",
     "text": [
      "Batches: 100%|██████████| 1/1 [00:00<00:00, 208.86it/s]\n"
     ]
    },
    {
     "name": "stdout",
     "output_type": "stream",
     "text": [
      "tensor([0.7812, 0.7266, 0.7031, 0.6797, 0.6758, 0.6680, 0.6641, 0.6445, 0.6406,\n",
      "        0.6094, 0.6055, 0.6055, 0.5977, 0.5977, 0.5977, 0.5898, 0.5898, 0.5859,\n",
      "        0.5820, 0.5781], device='cuda:0', dtype=torch.bfloat16)\n"
     ]
    },
    {
     "name": "stderr",
     "output_type": "stream",
     "text": [
      "Batches: 100%|██████████| 1/1 [00:00<00:00, 219.09it/s]\n"
     ]
    },
    {
     "name": "stdout",
     "output_type": "stream",
     "text": [
      "tensor([0.8281, 0.7695, 0.7695, 0.7500, 0.7344, 0.7227, 0.7227, 0.7227, 0.7188,\n",
      "        0.7109, 0.7070, 0.7070, 0.7070, 0.7070, 0.7031, 0.7031, 0.7031, 0.6953,\n",
      "        0.6836, 0.6836], device='cuda:0', dtype=torch.bfloat16)\n"
     ]
    },
    {
     "name": "stderr",
     "output_type": "stream",
     "text": [
      "Batches: 100%|██████████| 1/1 [00:00<00:00, 224.84it/s]\n"
     ]
    },
    {
     "name": "stdout",
     "output_type": "stream",
     "text": [
      "tensor([0.8359, 0.8281, 0.8242, 0.8047, 0.7539, 0.7539, 0.7461, 0.7344, 0.7344,\n",
      "        0.7188, 0.7109, 0.7109, 0.7031, 0.6680, 0.6523, 0.6484, 0.6445, 0.6367,\n",
      "        0.6133, 0.6055], device='cuda:0', dtype=torch.bfloat16)\n"
     ]
    },
    {
     "name": "stderr",
     "output_type": "stream",
     "text": [
      "Batches: 100%|██████████| 1/1 [00:00<00:00, 189.14it/s]\n"
     ]
    },
    {
     "name": "stdout",
     "output_type": "stream",
     "text": [
      "tensor([0.7109, 0.7109, 0.7031, 0.6953, 0.6523, 0.6445, 0.6445, 0.6367, 0.6250,\n",
      "        0.6211, 0.6133, 0.6133, 0.6094, 0.6094, 0.6094, 0.6094, 0.6055, 0.6016,\n",
      "        0.5898, 0.5898], device='cuda:0', dtype=torch.bfloat16)\n"
     ]
    },
    {
     "name": "stderr",
     "output_type": "stream",
     "text": [
      "Batches: 100%|██████████| 1/1 [00:00<00:00, 236.93it/s]\n"
     ]
    },
    {
     "name": "stdout",
     "output_type": "stream",
     "text": [
      "tensor([0.7383, 0.7305, 0.7305, 0.7266, 0.6758, 0.6758, 0.6680, 0.6602, 0.5898,\n",
      "        0.5898, 0.5859, 0.5781, 0.5781, 0.5781, 0.5742, 0.5742, 0.5742, 0.5742,\n",
      "        0.5742, 0.5703], device='cuda:0', dtype=torch.bfloat16)\n"
     ]
    },
    {
     "name": "stderr",
     "output_type": "stream",
     "text": [
      "Batches: 100%|██████████| 1/1 [00:00<00:00, 229.16it/s]\n"
     ]
    },
    {
     "name": "stdout",
     "output_type": "stream",
     "text": [
      "tensor([0.7812, 0.7734, 0.7695, 0.7656, 0.7617, 0.7578, 0.7539, 0.7422, 0.7344,\n",
      "        0.7305, 0.7305, 0.7266, 0.7227, 0.7148, 0.7148, 0.7148, 0.5391, 0.5195,\n",
      "        0.5117, 0.5117], device='cuda:0', dtype=torch.bfloat16)\n"
     ]
    },
    {
     "name": "stderr",
     "output_type": "stream",
     "text": [
      "Batches: 100%|██████████| 1/1 [00:00<00:00, 218.15it/s]\n"
     ]
    },
    {
     "name": "stdout",
     "output_type": "stream",
     "text": [
      "tensor([0.5781, 0.5703, 0.5273, 0.5273, 0.5273, 0.5000, 0.4902, 0.4883, 0.4883,\n",
      "        0.4824, 0.4824, 0.4824, 0.4805, 0.4805, 0.4805, 0.4805, 0.4785, 0.4785,\n",
      "        0.4766, 0.4746], device='cuda:0', dtype=torch.bfloat16)\n"
     ]
    },
    {
     "name": "stderr",
     "output_type": "stream",
     "text": [
      "Batches: 100%|██████████| 1/1 [00:00<00:00, 207.21it/s]\n"
     ]
    },
    {
     "name": "stdout",
     "output_type": "stream",
     "text": [
      "tensor([0.7656, 0.7617, 0.7539, 0.7500, 0.7461, 0.7383, 0.7383, 0.7305, 0.7266,\n",
      "        0.7227, 0.7227, 0.7227, 0.7188, 0.7188, 0.7188, 0.7148, 0.7148, 0.7109,\n",
      "        0.7109, 0.7109], device='cuda:0', dtype=torch.bfloat16)\n"
     ]
    },
    {
     "name": "stderr",
     "output_type": "stream",
     "text": [
      "Batches: 100%|██████████| 1/1 [00:00<00:00, 221.32it/s]\n"
     ]
    },
    {
     "name": "stdout",
     "output_type": "stream",
     "text": [
      "tensor([0.8398, 0.8359, 0.8359, 0.8242, 0.8242, 0.8242, 0.8125, 0.8086, 0.8086,\n",
      "        0.8008, 0.8008, 0.8008, 0.7969, 0.7969, 0.7930, 0.7930, 0.7930, 0.7812,\n",
      "        0.7773, 0.7734], device='cuda:0', dtype=torch.bfloat16)\n"
     ]
    },
    {
     "name": "stderr",
     "output_type": "stream",
     "text": [
      "Batches: 100%|██████████| 1/1 [00:00<00:00, 228.26it/s]\n"
     ]
    },
    {
     "name": "stdout",
     "output_type": "stream",
     "text": [
      "tensor([0.8047, 0.7578, 0.7539, 0.7500, 0.7383, 0.7344, 0.7344, 0.7305, 0.7227,\n",
      "        0.7188, 0.7148, 0.7109, 0.6953, 0.6914, 0.6875, 0.6875, 0.6875, 0.6797,\n",
      "        0.6797, 0.6758], device='cuda:0', dtype=torch.bfloat16)\n"
     ]
    },
    {
     "name": "stderr",
     "output_type": "stream",
     "text": [
      "Batches: 100%|██████████| 1/1 [00:00<00:00, 234.42it/s]\n"
     ]
    },
    {
     "name": "stdout",
     "output_type": "stream",
     "text": [
      "tensor([0.7617, 0.7305, 0.6562, 0.6484, 0.6445, 0.6250, 0.6250, 0.6250, 0.6211,\n",
      "        0.6211, 0.6172, 0.6094, 0.6094, 0.6016, 0.5977, 0.5977, 0.5938, 0.5781,\n",
      "        0.5781, 0.5742], device='cuda:0', dtype=torch.bfloat16)\n"
     ]
    },
    {
     "name": "stderr",
     "output_type": "stream",
     "text": [
      "Batches: 100%|██████████| 1/1 [00:00<00:00, 213.05it/s]\n"
     ]
    },
    {
     "name": "stdout",
     "output_type": "stream",
     "text": [
      "tensor([0.8398, 0.7852, 0.7734, 0.7539, 0.7539, 0.7539, 0.7422, 0.7188, 0.6992,\n",
      "        0.6953, 0.6758, 0.6719, 0.6680, 0.6641, 0.6602, 0.6602, 0.6562, 0.6562,\n",
      "        0.6562, 0.6523], device='cuda:0', dtype=torch.bfloat16)\n"
     ]
    },
    {
     "name": "stderr",
     "output_type": "stream",
     "text": [
      "Batches: 100%|██████████| 1/1 [00:00<00:00, 226.43it/s]\n"
     ]
    },
    {
     "name": "stdout",
     "output_type": "stream",
     "text": [
      "tensor([0.8086, 0.7578, 0.7578, 0.7539, 0.7422, 0.7383, 0.7344, 0.7344, 0.7344,\n",
      "        0.7305, 0.7266, 0.7227, 0.7188, 0.7148, 0.7148, 0.7109, 0.7109, 0.7109,\n",
      "        0.7070, 0.7070], device='cuda:0', dtype=torch.bfloat16)\n"
     ]
    },
    {
     "name": "stderr",
     "output_type": "stream",
     "text": [
      "Batches: 100%|██████████| 1/1 [00:00<00:00, 201.27it/s]\n"
     ]
    },
    {
     "name": "stdout",
     "output_type": "stream",
     "text": [
      "tensor([0.8086, 0.7969, 0.7930, 0.7422, 0.7344, 0.7344, 0.7344, 0.7344, 0.7305,\n",
      "        0.6953, 0.6953, 0.6914, 0.6367, 0.6328, 0.6289, 0.6289, 0.6250, 0.6211,\n",
      "        0.6211, 0.6172], device='cuda:0', dtype=torch.bfloat16)\n"
     ]
    },
    {
     "name": "stderr",
     "output_type": "stream",
     "text": [
      "Batches: 100%|██████████| 1/1 [00:00<00:00, 219.39it/s]\n"
     ]
    },
    {
     "name": "stdout",
     "output_type": "stream",
     "text": [
      "tensor([0.7109, 0.7109, 0.7070, 0.6758, 0.6719, 0.6719, 0.6680, 0.6680, 0.6602,\n",
      "        0.6562, 0.6523, 0.6484, 0.6250, 0.6211, 0.6211, 0.6172, 0.6172, 0.6172,\n",
      "        0.6172, 0.6133], device='cuda:0', dtype=torch.bfloat16)\n"
     ]
    },
    {
     "name": "stderr",
     "output_type": "stream",
     "text": [
      "Batches: 100%|██████████| 1/1 [00:00<00:00, 184.87it/s]\n"
     ]
    },
    {
     "name": "stdout",
     "output_type": "stream",
     "text": [
      "tensor([0.7734, 0.6875, 0.6406, 0.6367, 0.6367, 0.6328, 0.6211, 0.6172, 0.6133,\n",
      "        0.6094, 0.6055, 0.6055, 0.6055, 0.6055, 0.6055, 0.6055, 0.6055, 0.5977,\n",
      "        0.5977, 0.5977], device='cuda:0', dtype=torch.bfloat16)\n"
     ]
    },
    {
     "name": "stderr",
     "output_type": "stream",
     "text": [
      "Batches: 100%|██████████| 1/1 [00:00<00:00, 236.13it/s]\n"
     ]
    },
    {
     "name": "stdout",
     "output_type": "stream",
     "text": [
      "tensor([0.7773, 0.7422, 0.7383, 0.7344, 0.7305, 0.7109, 0.7070, 0.7070, 0.6992,\n",
      "        0.6953, 0.6914, 0.6875, 0.6797, 0.6797, 0.6758, 0.6758, 0.6758, 0.6641,\n",
      "        0.6641, 0.6641], device='cuda:0', dtype=torch.bfloat16)\n"
     ]
    },
    {
     "name": "stderr",
     "output_type": "stream",
     "text": [
      "Batches: 100%|██████████| 1/1 [00:00<00:00, 227.24it/s]\n"
     ]
    },
    {
     "name": "stdout",
     "output_type": "stream",
     "text": [
      "tensor([0.8398, 0.7969, 0.7930, 0.7930, 0.7930, 0.7891, 0.7852, 0.7812, 0.7812,\n",
      "        0.6328, 0.6250, 0.6133, 0.6094, 0.6055, 0.6016, 0.5938, 0.5938, 0.5898,\n",
      "        0.5898, 0.5859], device='cuda:0', dtype=torch.bfloat16)\n"
     ]
    },
    {
     "name": "stderr",
     "output_type": "stream",
     "text": [
      "Batches: 100%|██████████| 1/1 [00:00<00:00, 220.92it/s]\n"
     ]
    },
    {
     "name": "stdout",
     "output_type": "stream",
     "text": [
      "tensor([0.7578, 0.7188, 0.6992, 0.6953, 0.6914, 0.6914, 0.6875, 0.6875, 0.6797,\n",
      "        0.6797, 0.6797, 0.6758, 0.6758, 0.6758, 0.6719, 0.6719, 0.6719, 0.6719,\n",
      "        0.6680, 0.6641], device='cuda:0', dtype=torch.bfloat16)\n"
     ]
    },
    {
     "name": "stderr",
     "output_type": "stream",
     "text": [
      "Batches: 100%|██████████| 1/1 [00:00<00:00, 225.22it/s]\n"
     ]
    },
    {
     "name": "stdout",
     "output_type": "stream",
     "text": [
      "tensor([0.7344, 0.7266, 0.7227, 0.7109, 0.6289, 0.6250, 0.6133, 0.6055, 0.6055,\n",
      "        0.6055, 0.6016, 0.5977, 0.5977, 0.5977, 0.5938, 0.5898, 0.5898, 0.5898,\n",
      "        0.5859, 0.5820], device='cuda:0', dtype=torch.bfloat16)\n"
     ]
    },
    {
     "name": "stderr",
     "output_type": "stream",
     "text": [
      "Batches: 100%|██████████| 1/1 [00:00<00:00, 209.28it/s]\n"
     ]
    },
    {
     "name": "stdout",
     "output_type": "stream",
     "text": [
      "tensor([0.8242, 0.6914, 0.6445, 0.6406, 0.6289, 0.6250, 0.6250, 0.6211, 0.6211,\n",
      "        0.6094, 0.6094, 0.6094, 0.6055, 0.6016, 0.5859, 0.5820, 0.5820, 0.5742,\n",
      "        0.5703, 0.5664], device='cuda:0', dtype=torch.bfloat16)\n"
     ]
    },
    {
     "name": "stderr",
     "output_type": "stream",
     "text": [
      "Batches: 100%|██████████| 1/1 [00:00<00:00, 217.78it/s]\n"
     ]
    },
    {
     "name": "stdout",
     "output_type": "stream",
     "text": [
      "tensor([0.8047, 0.7656, 0.7578, 0.7500, 0.7461, 0.7383, 0.6758, 0.6719, 0.6484,\n",
      "        0.6445, 0.6445, 0.6406, 0.6367, 0.6367, 0.6328, 0.6328, 0.6328, 0.6328,\n",
      "        0.6289, 0.6250], device='cuda:0', dtype=torch.bfloat16)\n"
     ]
    },
    {
     "name": "stderr",
     "output_type": "stream",
     "text": [
      "Batches: 100%|██████████| 1/1 [00:00<00:00, 233.30it/s]\n"
     ]
    },
    {
     "name": "stdout",
     "output_type": "stream",
     "text": [
      "tensor([0.7305, 0.6719, 0.6406, 0.6406, 0.6289, 0.6289, 0.6250, 0.6211, 0.6172,\n",
      "        0.6172, 0.6172, 0.6172, 0.6133, 0.6094, 0.6094, 0.6055, 0.5977, 0.5977,\n",
      "        0.5977, 0.5977], device='cuda:0', dtype=torch.bfloat16)\n"
     ]
    },
    {
     "name": "stderr",
     "output_type": "stream",
     "text": [
      "Batches: 100%|██████████| 1/1 [00:00<00:00, 218.33it/s]\n"
     ]
    },
    {
     "name": "stdout",
     "output_type": "stream",
     "text": [
      "tensor([0.8125, 0.8047, 0.8047, 0.8047, 0.8008, 0.8008, 0.7969, 0.7891, 0.7852,\n",
      "        0.7695, 0.7461, 0.6836, 0.6797, 0.6758, 0.6719, 0.6680, 0.6680, 0.6680,\n",
      "        0.6680, 0.6641], device='cuda:0', dtype=torch.bfloat16)\n"
     ]
    },
    {
     "name": "stderr",
     "output_type": "stream",
     "text": [
      "Batches: 100%|██████████| 1/1 [00:00<00:00, 236.65it/s]\n"
     ]
    },
    {
     "name": "stdout",
     "output_type": "stream",
     "text": [
      "tensor([0.7188, 0.7070, 0.7031, 0.6914, 0.6758, 0.6602, 0.6602, 0.6602, 0.6562,\n",
      "        0.6562, 0.6523, 0.6484, 0.6445, 0.6445, 0.6367, 0.6328, 0.6289, 0.6250,\n",
      "        0.6211, 0.6172], device='cuda:0', dtype=torch.bfloat16)\n"
     ]
    },
    {
     "name": "stderr",
     "output_type": "stream",
     "text": [
      "Batches: 100%|██████████| 1/1 [00:00<00:00, 223.51it/s]\n"
     ]
    },
    {
     "name": "stdout",
     "output_type": "stream",
     "text": [
      "tensor([0.7695, 0.7539, 0.7148, 0.6953, 0.6875, 0.6875, 0.6797, 0.6680, 0.6680,\n",
      "        0.6641, 0.6641, 0.6562, 0.6562, 0.6562, 0.6562, 0.6523, 0.6523, 0.6484,\n",
      "        0.6484, 0.6484], device='cuda:0', dtype=torch.bfloat16)\n"
     ]
    },
    {
     "name": "stderr",
     "output_type": "stream",
     "text": [
      "Batches: 100%|██████████| 1/1 [00:00<00:00, 221.77it/s]\n"
     ]
    },
    {
     "name": "stdout",
     "output_type": "stream",
     "text": [
      "tensor([0.8125, 0.7969, 0.7969, 0.7852, 0.7773, 0.7773, 0.7539, 0.7539, 0.7422,\n",
      "        0.7422, 0.7422, 0.7344, 0.7344, 0.7266, 0.7227, 0.7227, 0.7227, 0.7188,\n",
      "        0.7188, 0.6953], device='cuda:0', dtype=torch.bfloat16)\n"
     ]
    },
    {
     "name": "stderr",
     "output_type": "stream",
     "text": [
      "Batches: 100%|██████████| 1/1 [00:00<00:00, 187.03it/s]\n"
     ]
    },
    {
     "name": "stdout",
     "output_type": "stream",
     "text": [
      "tensor([0.8008, 0.7305, 0.7227, 0.6680, 0.6484, 0.6367, 0.6289, 0.6172, 0.6055,\n",
      "        0.5781, 0.5664, 0.5664, 0.5625, 0.5586, 0.5586, 0.5586, 0.5586, 0.5586,\n",
      "        0.5547, 0.5547], device='cuda:0', dtype=torch.bfloat16)\n"
     ]
    },
    {
     "name": "stderr",
     "output_type": "stream",
     "text": [
      "Batches: 100%|██████████| 1/1 [00:00<00:00, 226.82it/s]\n"
     ]
    },
    {
     "name": "stdout",
     "output_type": "stream",
     "text": [
      "tensor([0.7695, 0.7305, 0.6797, 0.6758, 0.6758, 0.6719, 0.6641, 0.6641, 0.6562,\n",
      "        0.6562, 0.6523, 0.6523, 0.6445, 0.6367, 0.6289, 0.6250, 0.6211, 0.6133,\n",
      "        0.6133, 0.6133], device='cuda:0', dtype=torch.bfloat16)\n"
     ]
    }
   ],
   "source": [
    "for query in queries:\n",
    "    a = ask(query)\n",
    "    list_result.append(a)\n",
    "array_2d = list(zip(queries, list_result))\n",
    "\n",
    "df_result = pd.DataFrame(data = array_2d, columns=[\"Question\", \"Answer\"])\n",
    "df_result.to_csv(path_or_buf = \"Data/Evaluation/evaluation.csv\")"
   ]
  }
 ],
 "metadata": {
  "kernelspec": {
   "display_name": ".venv",
   "language": "python",
   "name": "python3"
  },
  "language_info": {
   "codemirror_mode": {
    "name": "ipython",
    "version": 3
   },
   "file_extension": ".py",
   "mimetype": "text/x-python",
   "name": "python",
   "nbconvert_exporter": "python",
   "pygments_lexer": "ipython3",
   "version": "3.10.12"
  }
 },
 "nbformat": 4,
 "nbformat_minor": 2
}

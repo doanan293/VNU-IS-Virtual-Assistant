{
 "cells": [
  {
   "cell_type": "code",
   "execution_count": 1,
   "metadata": {},
   "outputs": [
    {
     "name": "stdout",
     "output_type": "stream",
     "text": [
      "/home/admin-hieunn/important/VNUIS-Chatbot\n"
     ]
    },
    {
     "name": "stderr",
     "output_type": "stream",
     "text": [
      "/home/admin-hieunn/important/VNUIS-Chatbot/.venv/lib/python3.10/site-packages/IPython/core/magics/osm.py:417: UserWarning: This is now an optional IPython functionality, setting dhist requires you to install the `pickleshare` library.\n",
      "  self.shell.db['dhist'] = compress_dhist(dhist)[-100:]\n"
     ]
    }
   ],
   "source": [
    "cd .."
   ]
  },
  {
   "cell_type": "code",
   "execution_count": 2,
   "metadata": {},
   "outputs": [
    {
     "name": "stderr",
     "output_type": "stream",
     "text": [
      "/home/admin-hieunn/important/VNUIS-Chatbot/.venv/lib/python3.10/site-packages/sentence_transformers/cross_encoder/CrossEncoder.py:13: TqdmWarning: IProgress not found. Please update jupyter and ipywidgets. See https://ipywidgets.readthedocs.io/en/stable/user_install.html\n",
      "  from tqdm.autonotebook import tqdm, trange\n"
     ]
    }
   ],
   "source": [
    "from sentence_transformers import SentenceTransformer, util\n",
    "import torch\n",
    "import numpy as np\n",
    "import pandas as pd\n",
    "import textwrap\n",
    "import time\n",
    "import sys\n",
    "import locale\n",
    "import os\n",
    "from dotenv import load_dotenv\n",
    "import json\n",
    "\n",
    "load_dotenv()\n",
    "# Load models and data once\n",
    "embedding_path = os.getenv(\"PROJECTCB1_EMBEDDING_MODEL\")\n",
    "embedding_model = SentenceTransformer(\n",
    "    model_name_or_path=embedding_path,\n",
    "    model_kwargs={\"torch_dtype\": \"bfloat16\"},\n",
    "    device=\"cuda\",\n",
    "    trust_remote_code=True,\n",
    ")\n",
    "import torch\n",
    "from transformers import AutoModelForSequenceClassification, AutoTokenizer\n",
    "\n",
    "rerank_tokenizer = AutoTokenizer.from_pretrained(\"Model/bge-reranker-v2-m3\")\n",
    "rerank_model = AutoModelForSequenceClassification.from_pretrained(\n",
    "    \"Model/bge-reranker-v2-m3\", torch_dtype=torch.bfloat16, device_map=\"cuda:0\"\n",
    ")\n",
    "rerank_model.eval()\n",
    "\n",
    "\n",
    "# Load embeddings and data once\n",
    "def load_embeddings(embeddings_path, device):\n",
    "    try:\n",
    "        text_chunks_and_embedding_df = pd.read_csv(embeddings_path)\n",
    "\n",
    "        # Convert the embedding column from JSON strings to lists of floats\n",
    "        text_chunks_and_embedding_df[\"embedding\"] = text_chunks_and_embedding_df[\n",
    "            \"embedding\"\n",
    "        ].apply(json.loads)\n",
    "\n",
    "        # Convert embeddings to PyTorch tensors\n",
    "        embeddings = torch.tensor(\n",
    "            np.array(text_chunks_and_embedding_df[\"embedding\"].tolist()),\n",
    "            dtype=torch.bfloat16,\n",
    "        ).to(device)\n",
    "\n",
    "        pages_and_chunks = text_chunks_and_embedding_df.to_dict(orient=\"records\")\n",
    "    except Exception as e:\n",
    "        raise RuntimeError(f\"Failed to load embeddings: {e}\")\n",
    "\n",
    "    return embeddings, pages_and_chunks\n",
    "\n",
    "\n",
    "embeddings, pages_and_chunks = load_embeddings(\n",
    "    embeddings_path=\"Data/DB/ChunksAndEmbedding.csv\", device=\"cuda\"\n",
    ")\n",
    "\n",
    "\n",
    "# Function to retrieve relevant resources\n",
    "def retrieve_relevant_resources(\n",
    "    query: str,\n",
    "    number_result_embedding: int = 20,\n",
    "    number_result_reranking: int = 5,\n",
    "    threshold: int = -4,\n",
    "):\n",
    "    query_embedding = embedding_model.encode(query, convert_to_tensor=True)\n",
    "    # cosine_scores = util.pytorch_cos_sim(query_embedding, embeddings)[0]\n",
    "    dot_scores = util.dot_score(query_embedding, embeddings)[0]\n",
    "\n",
    "    # Get top scores with a threshold\n",
    "    # scores, indices = torch.topk(input=cosine_scores, k=n_resources_to_return)\n",
    "    scores, indices = torch.topk(input=dot_scores, k=number_result_embedding)\n",
    "    print(scores)\n",
    "\n",
    "    context_items = [pages_and_chunks[i] for i in indices]\n",
    "    results = [item[\"Relevant docs\"] for item in context_items]\n",
    "\n",
    "    pairs = [[query, result] for result in results]\n",
    "\n",
    "    with torch.no_grad():\n",
    "        inputs = rerank_tokenizer(\n",
    "            pairs, padding=True, truncation=True, return_tensors=\"pt\", max_length=1024\n",
    "        )\n",
    "        inputs = {\n",
    "            key: value.to(\"cuda\") for key, value in inputs.items()\n",
    "        }  # Move all inputs to the same device as the model\n",
    "\n",
    "        # Compute scores\n",
    "        rerank_scores = rerank_model(**inputs, return_dict=True).logits.view(\n",
    "            -1,\n",
    "        )\n",
    "\n",
    "        top_scores, top_indices = torch.topk(rerank_scores, k=number_result_reranking)\n",
    "        # Help me add script to only take the score > -3\n",
    "        filtered_indices = top_indices[top_scores > threshold]\n",
    "        rerank_result = [results[i] for i in filtered_indices]\n",
    "\n",
    "    return results, scores, top_scores, rerank_result\n",
    "    # return rerank_result"
   ]
  },
  {
   "cell_type": "code",
   "execution_count": 13,
   "metadata": {},
   "outputs": [
    {
     "name": "stdout",
     "output_type": "stream",
     "text": [
      "tensor([0.6055, 0.5977, 0.5898, 0.5859, 0.5625, 0.5586, 0.5586, 0.5586, 0.5547,\n",
      "        0.5547, 0.5547, 0.5547, 0.5508, 0.5508, 0.5508, 0.5469, 0.5469, 0.5469,\n",
      "        0.5430, 0.5430, 0.5430, 0.5430, 0.5352, 0.5352, 0.5312, 0.5312, 0.5273,\n",
      "        0.5273, 0.5234, 0.5195, 0.5195, 0.5117, 0.5117, 0.5078, 0.5078, 0.5078,\n",
      "        0.5078, 0.5078, 0.5039, 0.5039, 0.5000, 0.4980, 0.4980, 0.4961, 0.4961,\n",
      "        0.4961, 0.4863, 0.4785, 0.4785, 0.4688], device='cuda:0',\n",
      "       dtype=torch.bfloat16)\n"
     ]
    }
   ],
   "source": [
    "query = \"Giới thiệu về cô Trần Thị Oanh\"\n",
    "results, scores, top_scores, rerank_result = retrieve_relevant_resources(\n",
    "    query=query, number_result_embedding=50, number_result_reranking=3, threshold = -3.5)"
   ]
  },
  {
   "cell_type": "code",
   "execution_count": 14,
   "metadata": {},
   "outputs": [
    {
     "data": {
      "text/plain": [
       "['Tôi muốn nghiên cứu chủ đề \"Khai phá dữ liệu (Data Mining)\", tôi nên chọn giảng viên hướng dẫn là ai?\\nHướng nghiên cứu của Cô Trần Thị Oanh là về lĩnh vực Computer Science (Khoa học máy tính)\\n1. Khai phá dữ liệu (Data Mining)\\n2. Ứng dụng máy học trong kinh doanh (Applications of machine learning in business)\\n3. Xử lý ngôn ngữ tự nhiên (Natural Language Processing)',\n",
       " 'Tôi muốn nghiên cứu chủ đề \"Xử lý ngôn ngữ tự nhiên (Natural Language Processing)\", tôi nên chọn giảng viên hướng dẫn là ai?\\nHướng nghiên cứu của Cô Trần Thị Oanh là về lĩnh vực Computer Science (Khoa học máy tính)\\n1. Khai phá dữ liệu (Data Mining)\\n2. Ứng dụng máy học trong kinh doanh (Applications of machine learning in business)\\n3. Xử lý ngôn ngữ tự nhiên (Natural Language Processing)',\n",
       " 'Tôi muốn nghiên cứu chủ đề \"Ứng dụng máy học trong kinh doanh (Applications of machine learning in business)\", tôi nên chọn giảng viên hướng dẫn là ai?\\nHướng nghiên cứu của Cô Trần Thị Oanh là về lĩnh vực Computer Science (Khoa học máy tính)\\n1. Khai phá dữ liệu (Data Mining)\\n2. Ứng dụng máy học trong kinh doanh (Applications of machine learning in business)\\n3. Xử lý ngôn ngữ tự nhiên (Natural Language Processing)',\n",
       " 'Tôi muốn nghiên cứu về lĩnh vực khoa học máy tính, tôi nên đăng ký giảng viên hướng dẫn là ai?\\nHướng nghiên cứu của Cô Trần Thị Oanh là về lĩnh vực Computer Science (Khoa học máy tính)\\n1. Khai phá dữ liệu (Data Mining)\\n2. Ứng dụng máy học trong kinh doanh (Applications of machine learning in business)\\n3. Xử lý ngôn ngữ tự nhiên (Natural Language Processing)',\n",
       " 'Tên các bằng cấp của PGS. TS. Trần Thị Oanh là gì?\\nPGS. TS.Trần Thị Oanh:\\n\\nCử nhân: Công nghệ Thông tin, Đại học Công nghệ – ĐHQG Hà Nội\\nThạc sĩ: Hệ thống thông tin, Đại học Công nghệ – ĐHQG Hà Nội\\nTiến sĩ: Khoa học Máy tính, Viện khoa học và công nghệ tiên tiến Nhật Bản',\n",
       " 'Tên các báo cáo của PGS. TS. Trần Thị Oanh là gì?\\nMột số Reports của PGS. TS.Trần Thị Oanh:\\n\\nNguyen Cam Tu, Tran Thi Oanh, Ha Quang Thuy, Phan Xuan Hieu. Named Entity Recognition in Vietnamese Free-Text and Web Documents Using Conditional Random Fields. National Conference of Communication and Information Technology, Hai Phong, Vietnam 2005 (in Vietnamese).\\nDang Thanh Hai, Tran Thi Oanh, Ha Quang Thuy. Co-training algorithms with neighbor texts for Web pages classification. Report at National Conference of Communication and Information Technology, Nha Trang, Vietnam, 2007.\\nTran Thi Oanh, Le Anh Cuong, Ha Quang Thuy. Vietnamese word segmentation by using multiple knowledge recourses. Report at National Conference of Communication and Information Technology, Hue, Vietnam, 2008.',\n",
       " 'Một số đề tài và dự án của PGS. TS. Trần Thị Oanh là gì?\\nMột số đề tài và dự án của PGS. TS.Trần Thị Oanh:\\n\\nChủ nhiệm đề tài cấp cơ sở 2015, “Nhận diện paraphrase trong các văn bản tiếng Việt” \\nChủ nhiệm đề tài cấp ĐHQG Hà Nội 2019-2020, “Nghiên cứu và phát triển hệ thống trả lời tự động về ĐHQG Hà Nội”\\nChủ nhiệm đề tài cấp cơ sở 2021, “Nghiên cứu và phát triển các mô hình huấn luyện trước và ứng dụng cải tiến các bài toán xử lý ngôn ngữ tự nhiên”',\n",
       " 'Tên các đề tài và dự án của PGS. TS. Trần Thị Oanh là gì?\\nMột số đề tài và dự án của PGS. TS.Trần Thị Oanh:\\n\\nChủ nhiệm đề tài cấp cơ sở 2015, “Nhận diện paraphrase trong các văn bản tiếng Việt” \\nChủ nhiệm đề tài cấp ĐHQG Hà Nội 2019-2020, “Nghiên cứu và phát triển hệ thống trả lời tự động về ĐHQG Hà Nội”\\nChủ nhiệm đề tài cấp cơ sở 2021, “Nghiên cứu và phát triển các mô hình huấn luyện trước và ứng dụng cải tiến các bài toán xử lý ngôn ngữ tự nhiên”',\n",
       " 'PGS. TS. Trần Thị Oanh giảng dạy những môn học nào?\\n\\nCác môn học PGS. TS.Trần Thị Oanh giảng dạy:\\n\\nPhân tích kinh doanh hỗ trợ ra quyết định\\nKhai phá dữ liệu\\nCơ sở dữ liệu\\nXử lý ngôn ngữ tự nhiên\\nNhập môn BDA',\n",
       " 'Tên các môn học PGS. TS. Trần Thị Oanh giảng dạy là gì?\\n\\nCác môn học PGS. TS.Trần Thị Oanh giảng dạy:\\n\\nPhân tích kinh doanh hỗ trợ ra quyết định\\nKhai phá dữ liệu\\nCơ sở dữ liệu\\nXử lý ngôn ngữ tự nhiên\\nNhập môn BDA',\n",
       " 'Các môn học của PGS. TS. Trần Thị Oanh bao gồm?\\n\\nCác môn học PGS. TS.Trần Thị Oanh giảng dạy:\\n\\nPhân tích kinh doanh hỗ trợ ra quyết định\\nKhai phá dữ liệu\\nCơ sở dữ liệu\\nXử lý ngôn ngữ tự nhiên\\nNhập môn BDA',\n",
       " 'PGS. TS. Trần Thị Oanh đã thực hiện những đề tài và dự án nào?\\nMột số đề tài và dự án của PGS. TS.Trần Thị Oanh:\\n\\nChủ nhiệm đề tài cấp cơ sở 2015, “Nhận diện paraphrase trong các văn bản tiếng Việt” \\nChủ nhiệm đề tài cấp ĐHQG Hà Nội 2019-2020, “Nghiên cứu và phát triển hệ thống trả lời tự động về ĐHQG Hà Nội”\\nChủ nhiệm đề tài cấp cơ sở 2021, “Nghiên cứu và phát triển các mô hình huấn luyện trước và ứng dụng cải tiến các bài toán xử lý ngôn ngữ tự nhiên”',\n",
       " 'Bằng cấp của PGS. TS. Trần Thị Oanh là gì?\\nPGS. TS.Trần Thị Oanh:\\n\\nCử nhân: Công nghệ Thông tin, Đại học Công nghệ – ĐHQG Hà Nội\\nThạc sĩ: Hệ thống thông tin, Đại học Công nghệ – ĐHQG Hà Nội\\nTiến sĩ: Khoa học Máy tính, Viện khoa học và công nghệ tiên tiến Nhật Bản',\n",
       " 'Các môn học PGS. TS. Trần Thị Oanh giảng dạy là gì?\\n\\nCác môn học PGS. TS.Trần Thị Oanh giảng dạy:\\n\\nPhân tích kinh doanh hỗ trợ ra quyết định\\nKhai phá dữ liệu\\nCơ sở dữ liệu\\nXử lý ngôn ngữ tự nhiên\\nNhập môn BDA',\n",
       " 'Một số Reports của PGS. TS. Trần Thị Oanh là gì?\\nMột số Reports của PGS. TS.Trần Thị Oanh:\\n\\nNguyen Cam Tu, Tran Thi Oanh, Ha Quang Thuy, Phan Xuan Hieu. Named Entity Recognition in Vietnamese Free-Text and Web Documents Using Conditional Random Fields. National Conference of Communication and Information Technology, Hai Phong, Vietnam 2005 (in Vietnamese).\\nDang Thanh Hai, Tran Thi Oanh, Ha Quang Thuy. Co-training algorithms with neighbor texts for Web pages classification. Report at National Conference of Communication and Information Technology, Nha Trang, Vietnam, 2007.\\nTran Thi Oanh, Le Anh Cuong, Ha Quang Thuy. Vietnamese word segmentation by using multiple knowledge recourses. Report at National Conference of Communication and Information Technology, Hue, Vietnam, 2008.',\n",
       " 'PGS. TS. Trần Thị Oanh có những bằng cấp nào?\\nPGS. TS.Trần Thị Oanh:\\n\\nCử nhân: Công nghệ Thông tin, Đại học Công nghệ – ĐHQG Hà Nội\\nThạc sĩ: Hệ thống thông tin, Đại học Công nghệ – ĐHQG Hà Nội\\nTiến sĩ: Khoa học Máy tính, Viện khoa học và công nghệ tiên tiến Nhật Bản',\n",
       " 'PGS. TS. Trần Thị Oanh nghiên cứu về những lĩnh vực nào?\\nHướng nghiên cứu PGS. TS.Trần Thị Oanh:\\n\\nXử lý ngôn ngữ tự nhiên\\nKhoa học dữ liệu trong kinh doanh',\n",
       " 'PGS. TS. Trần Thị Oanh đã thực hiện những báo cáo nào?\\nMột số Reports của PGS. TS.Trần Thị Oanh:\\n\\nNguyen Cam Tu, Tran Thi Oanh, Ha Quang Thuy, Phan Xuan Hieu. Named Entity Recognition in Vietnamese Free-Text and Web Documents Using Conditional Random Fields. National Conference of Communication and Information Technology, Hai Phong, Vietnam 2005 (in Vietnamese).\\nDang Thanh Hai, Tran Thi Oanh, Ha Quang Thuy. Co-training algorithms with neighbor texts for Web pages classification. Report at National Conference of Communication and Information Technology, Nha Trang, Vietnam, 2007.\\nTran Thi Oanh, Le Anh Cuong, Ha Quang Thuy. Vietnamese word segmentation by using multiple knowledge recourses. Report at National Conference of Communication and Information Technology, Hue, Vietnam, 2008.',\n",
       " 'Các bằng cấp của PGS. TS. Trần Thị Oanh bao gồm?\\nPGS. TS.Trần Thị Oanh:\\n\\nCử nhân: Công nghệ Thông tin, Đại học Công nghệ – ĐHQG Hà Nội\\nThạc sĩ: Hệ thống thông tin, Đại học Công nghệ – ĐHQG Hà Nội\\nTiến sĩ: Khoa học Máy tính, Viện khoa học và công nghệ tiên tiến Nhật Bản',\n",
       " 'Tên các hướng nghiên cứu của PGS. TS. Trần Thị Oanh là gì?\\nHướng nghiên cứu PGS. TS.Trần Thị Oanh:\\n\\nXử lý ngôn ngữ tự nhiên\\nKhoa học dữ liệu trong kinh doanh',\n",
       " 'Các báo cáo của PGS. TS. Trần Thị Oanh bao gồm?\\nMột số Reports của PGS. TS.Trần Thị Oanh:\\n\\nNguyen Cam Tu, Tran Thi Oanh, Ha Quang Thuy, Phan Xuan Hieu. Named Entity Recognition in Vietnamese Free-Text and Web Documents Using Conditional Random Fields. National Conference of Communication and Information Technology, Hai Phong, Vietnam 2005 (in Vietnamese).\\nDang Thanh Hai, Tran Thi Oanh, Ha Quang Thuy. Co-training algorithms with neighbor texts for Web pages classification. Report at National Conference of Communication and Information Technology, Nha Trang, Vietnam, 2007.\\nTran Thi Oanh, Le Anh Cuong, Ha Quang Thuy. Vietnamese word segmentation by using multiple knowledge recourses. Report at National Conference of Communication and Information Technology, Hue, Vietnam, 2008.',\n",
       " 'Các đề tài và dự án của PGS. TS. Trần Thị Oanh bao gồm?\\nMột số đề tài và dự án của PGS. TS.Trần Thị Oanh:\\n\\nChủ nhiệm đề tài cấp cơ sở 2015, “Nhận diện paraphrase trong các văn bản tiếng Việt” \\nChủ nhiệm đề tài cấp ĐHQG Hà Nội 2019-2020, “Nghiên cứu và phát triển hệ thống trả lời tự động về ĐHQG Hà Nội”\\nChủ nhiệm đề tài cấp cơ sở 2021, “Nghiên cứu và phát triển các mô hình huấn luyện trước và ứng dụng cải tiến các bài toán xử lý ngôn ngữ tự nhiên”',\n",
       " 'Chức vụ của PGS. TS.Trần Thị Oanh là gì?\\nPGS. TS.Trần Thị Oanh:\\n\\nChức vụ: Phó trưởng Khoa\\nHọc hàm, học vị: Phó Giáo sư  Tiến sĩ\\nNgoại ngữ: Tiếng Anh\\nEmail: tranthioanh@vnu.edu.vn\\nĐịa chỉ:Khoa Các khoa học ứng dụng, P408, nhà C, Làng sinh viên HACINCO, 79 Ngụy Như Kon Tum, Nhân Chính, Thanh Xuân',\n",
       " 'Thông tin liên hệ cơ bản của PGS. TS.Trần Thị Oanh là gì?\\nPGS. TS.Trần Thị Oanh:\\n\\nChức vụ: Phó trưởng Khoa\\nHọc hàm, học vị: Phó Giáo sư  Tiến sĩ\\nNgoại ngữ: Tiếng Anh\\nEmail: tranthioanh@vnu.edu.vn\\nĐịa chỉ:Khoa Các khoa học ứng dụng, P408, nhà C, Làng sinh viên HACINCO, 79 Ngụy Như Kon Tum, Nhân Chính, Thanh Xuân',\n",
       " 'Hướng nghiên cứu của PGS. TS. Trần Thị Oanh là gì?\\nHướng nghiên cứu PGS. TS.Trần Thị Oanh:\\n\\nXử lý ngôn ngữ tự nhiên\\nKhoa học dữ liệu trong kinh doanh',\n",
       " 'Các hướng nghiên cứu của PGS. TS. Trần Thị Oanh bao gồm?\\nHướng nghiên cứu PGS. TS.Trần Thị Oanh:\\n\\nXử lý ngôn ngữ tự nhiên\\nKhoa học dữ liệu trong kinh doanh',\n",
       " 'Tôi muốn nghiên cứu về lĩnh vực kế toán và tài chính, tôi nên đăng ký giảng viên hướng dẫn là ai?\\nHướng nghiên cứu của Cô Nguyễn Thị Kim Oanh là về lĩnh vực Accounting and Finance (Kế toán và Tài chính)\\n1. Hệ thống quản lý hiệu suất bền vững (Sustainable performance management systems)\\n2. Báo cáo bền vững (Sustainable Reporting)\\n3. Đánh giá ESG của các công ty niêm yết tại Việt Nam thông qua khai thác dữ liệu và kỹ thuật máy học (ESG scoring of listed firms in Vietnam by employing data mining and machine learning techniques)\\n4. Các yếu tố thúc đẩy ESG trong các công ty niêm yết (Factors driving ESG practices among listed companies)\\n5. Công bố thông tin doanh nghiệp tự nguyện (Voluntary corporate disclosure)\\n6. Các chỉ số tài chính và phi tài chính về hiệu suất của doanh nghiệp (Financial and non-financial measures of firm performance)\\n7. Phát hiện tình trạng tài chính khó khăn và gian lận (Financial distress and fraud detection)',\n",
       " 'Email của PGS. TS.Trần Thị Oanh là gì?\\nPGS. TS.Trần Thị Oanh:\\n\\nChức vụ: Phó trưởng Khoa\\nHọc hàm, học vị: Phó Giáo sư  Tiến sĩ\\nNgoại ngữ: Tiếng Anh\\nEmail: tranthioanh@vnu.edu.vn\\nĐịa chỉ:Khoa Các khoa học ứng dụng, P408, nhà C, Làng sinh viên HACINCO, 79 Ngụy Như Kon Tum, Nhân Chính, Thanh Xuân',\n",
       " 'Tôi muốn nghiên cứu chủ đề \"Phát hiện tình trạng tài chính khó khăn và gian lận (Financial distress and fraud detection)\", tôi nên chọn giảng viên hướng dẫn là ai?\\nHướng nghiên cứu của Cô Nguyễn Thị Kim Oanh là về lĩnh vực Accounting and Finance (Kế toán và Tài chính)\\n1. Hệ thống quản lý hiệu suất bền vững (Sustainable performance management systems)\\n2. Báo cáo bền vững (Sustainable Reporting)\\n3. Đánh giá ESG của các công ty niêm yết tại Việt Nam thông qua khai thác dữ liệu và kỹ thuật máy học (ESG scoring of listed firms in Vietnam by employing data mining and machine learning techniques)\\n4. Các yếu tố thúc đẩy ESG trong các công ty niêm yết (Factors driving ESG practices among listed companies)\\n5. Công bố thông tin doanh nghiệp tự nguyện (Voluntary corporate disclosure)\\n6. Các chỉ số tài chính và phi tài chính về hiệu suất của doanh nghiệp (Financial and non-financial measures of firm performance)\\n7. Phát hiện tình trạng tài chính khó khăn và gian lận (Financial distress and fraud detection)',\n",
       " 'Tôi muốn nghiên cứu chủ đề \"Báo cáo bền vững (Sustainable Reporting)\", tôi nên chọn giảng viên hướng dẫn là ai?\\nHướng nghiên cứu của Cô Nguyễn Thị Kim Oanh là về lĩnh vực Accounting and Finance (Kế toán và Tài chính)\\n1. Hệ thống quản lý hiệu suất bền vững (Sustainable performance management systems)\\n2. Báo cáo bền vững (Sustainable Reporting)\\n3. Đánh giá ESG của các công ty niêm yết tại Việt Nam thông qua khai thác dữ liệu và kỹ thuật máy học (ESG scoring of listed firms in Vietnam by employing data mining and machine learning techniques)\\n4. Các yếu tố thúc đẩy ESG trong các công ty niêm yết (Factors driving ESG practices among listed companies)\\n5. Công bố thông tin doanh nghiệp tự nguyện (Voluntary corporate disclosure)\\n6. Các chỉ số tài chính và phi tài chính về hiệu suất của doanh nghiệp (Financial and non-financial measures of firm performance)\\n7. Phát hiện tình trạng tài chính khó khăn và gian lận (Financial distress and fraud detection)',\n",
       " 'Tên các công bố Journals của PGS. TS. Trần Thị Oanh là gì?\\nCác công bố Journals - PGS. TS.Trần Thị Oanh:\\n\\nOanh Thi Tran, Viet The Bui. Neural text normalization in Speech-to-Text systems with rich features. Applied Artificial Intelligence. issue 3, volume 35, 2021. download.  (SCIE-Q3)\\nOanh Thi Tran, Tho Chi Luong. Understanding What the Users Say in Chatbots: A Case Study for the Vietnamese Language. The International Scientific Journal Engineering Applications of Artificial Intelligence. Vol 87, pp 1-10, 2020 (SCIE-Q1) download\\nNgo Xuan Bach, Phan Duc Thanh, Tran Thi Oanh. Question Analysis towards a Vietnamese Question Answering System in the Education Domain. Journal of Cybernetics and Information Technologies, 20(1):112-128. 2020. (SCOPUS-Q2) download',\n",
       " 'PGS. TS. Trần Thị Oanh có những bài báo công bố nào?\\nPublished Papers của PGS. TS.Trần Thị Oanh:\\n\\nOanh Thi Tran, Ly Phuong Nguyen. Trainee Churn Prediction using Machine Learning: A Case Study of Data Scientist Job. In the proceedings of the 2nd international conference on Human-centered Artificial Intelligence, October 2021. (to appear)\\nViet The Bui, Oanh Thi Tran. Punctuation Prediction in Vietnamese ASRs using Transformer-based Models. In the proceedings of the 18th Pacific Rim International Conference on Artificial Intelligence (PRICAI), November 2021. (to appear)\\nOanh Thi Tran, Viet The Bui. A BERT-based Hierarchical Model for Vietnamese Aspect Based Sentiment Analysis. In the proceedings of the 12th IEEE International Conference on Knowledge and System Engineering (KSE 12), pp. 269-274, 2020  download.',\n",
       " 'Tên các bài báo của PGS. TS. Trần Thị Oanh là gì?\\nPublished Papers của PGS. TS.Trần Thị Oanh:\\n\\nOanh Thi Tran, Ly Phuong Nguyen. Trainee Churn Prediction using Machine Learning: A Case Study of Data Scientist Job. In the proceedings of the 2nd international conference on Human-centered Artificial Intelligence, October 2021. (to appear)\\nViet The Bui, Oanh Thi Tran. Punctuation Prediction in Vietnamese ASRs using Transformer-based Models. In the proceedings of the 18th Pacific Rim International Conference on Artificial Intelligence (PRICAI), November 2021. (to appear)\\nOanh Thi Tran, Viet The Bui. A BERT-based Hierarchical Model for Vietnamese Aspect Based Sentiment Analysis. In the proceedings of the 12th IEEE International Conference on Knowledge and System Engineering (KSE 12), pp. 269-274, 2020  download.',\n",
       " 'Học hàm, học vị của PGS. TS.Trần Thị Oanh là gì?\\nPGS. TS.Trần Thị Oanh:\\n\\nChức vụ: Phó trưởng Khoa\\nHọc hàm, học vị: Phó Giáo sư  Tiến sĩ\\nNgoại ngữ: Tiếng Anh\\nEmail: tranthioanh@vnu.edu.vn\\nĐịa chỉ:Khoa Các khoa học ứng dụng, P408, nhà C, Làng sinh viên HACINCO, 79 Ngụy Như Kon Tum, Nhân Chính, Thanh Xuân',\n",
       " 'Các công bố Journals của PGS. TS. Trần Thị Oanh là gì?\\nCác công bố Journals - PGS. TS.Trần Thị Oanh:\\n\\nOanh Thi Tran, Viet The Bui. Neural text normalization in Speech-to-Text systems with rich features. Applied Artificial Intelligence. issue 3, volume 35, 2021. download.  (SCIE-Q3)\\nOanh Thi Tran, Tho Chi Luong. Understanding What the Users Say in Chatbots: A Case Study for the Vietnamese Language. The International Scientific Journal Engineering Applications of Artificial Intelligence. Vol 87, pp 1-10, 2020 (SCIE-Q1) download\\nNgo Xuan Bach, Phan Duc Thanh, Tran Thi Oanh. Question Analysis towards a Vietnamese Question Answering System in the Education Domain. Journal of Cybernetics and Information Technologies, 20(1):112-128. 2020. (SCOPUS-Q2) download',\n",
       " 'PGS. TS. Trần Thị Oanh có những công bố nào trên các tạp chí?\\nCác công bố Journals - PGS. TS.Trần Thị Oanh:\\n\\nOanh Thi Tran, Viet The Bui. Neural text normalization in Speech-to-Text systems with rich features. Applied Artificial Intelligence. issue 3, volume 35, 2021. download.  (SCIE-Q3)\\nOanh Thi Tran, Tho Chi Luong. Understanding What the Users Say in Chatbots: A Case Study for the Vietnamese Language. The International Scientific Journal Engineering Applications of Artificial Intelligence. Vol 87, pp 1-10, 2020 (SCIE-Q1) download\\nNgo Xuan Bach, Phan Duc Thanh, Tran Thi Oanh. Question Analysis towards a Vietnamese Question Answering System in the Education Domain. Journal of Cybernetics and Information Technologies, 20(1):112-128. 2020. (SCOPUS-Q2) download',\n",
       " 'Các công bố tạp chí của PGS. TS. Trần Thị Oanh bao gồm?\\nCác công bố Journals - PGS. TS.Trần Thị Oanh:\\n\\nOanh Thi Tran, Viet The Bui. Neural text normalization in Speech-to-Text systems with rich features. Applied Artificial Intelligence. issue 3, volume 35, 2021. download.  (SCIE-Q3)\\nOanh Thi Tran, Tho Chi Luong. Understanding What the Users Say in Chatbots: A Case Study for the Vietnamese Language. The International Scientific Journal Engineering Applications of Artificial Intelligence. Vol 87, pp 1-10, 2020 (SCIE-Q1) download\\nNgo Xuan Bach, Phan Duc Thanh, Tran Thi Oanh. Question Analysis towards a Vietnamese Question Answering System in the Education Domain. Journal of Cybernetics and Information Technologies, 20(1):112-128. 2020. (SCOPUS-Q2) download',\n",
       " 'Các bài báo đã công bố của PGS. TS. Trần Thị Oanh là gì?\\nPublished Papers của PGS. TS.Trần Thị Oanh:\\n\\nOanh Thi Tran, Ly Phuong Nguyen. Trainee Churn Prediction using Machine Learning: A Case Study of Data Scientist Job. In the proceedings of the 2nd international conference on Human-centered Artificial Intelligence, October 2021. (to appear)\\nViet The Bui, Oanh Thi Tran. Punctuation Prediction in Vietnamese ASRs using Transformer-based Models. In the proceedings of the 18th Pacific Rim International Conference on Artificial Intelligence (PRICAI), November 2021. (to appear)\\nOanh Thi Tran, Viet The Bui. A BERT-based Hierarchical Model for Vietnamese Aspect Based Sentiment Analysis. In the proceedings of the 12th IEEE International Conference on Knowledge and System Engineering (KSE 12), pp. 269-274, 2020  download.',\n",
       " 'Tôi muốn nghiên cứu chủ đề \"Phát hiện đối tượng (Object detection)\", tôi nên chọn giảng viên hướng dẫn là ai?\\nHướng nghiên cứu của Cô Trần Thị Ngân là về lĩnh vực Information Technology (Công nghệ thông tin)\\n1. Mô hình tối ưu hóa (Optimization models)\\n2. Trí tuệ nhân tạo / Học máy / Học sâu (Artificial Intelligence / Machine learning / Deep learning)\\n3. Phát hiện đối tượng (Object detection)',\n",
       " 'Các bài báo công bố của PGS. TS. Trần Thị Oanh bao gồm?\\nPublished Papers của PGS. TS.Trần Thị Oanh:\\n\\nOanh Thi Tran, Ly Phuong Nguyen. Trainee Churn Prediction using Machine Learning: A Case Study of Data Scientist Job. In the proceedings of the 2nd international conference on Human-centered Artificial Intelligence, October 2021. (to appear)\\nViet The Bui, Oanh Thi Tran. Punctuation Prediction in Vietnamese ASRs using Transformer-based Models. In the proceedings of the 18th Pacific Rim International Conference on Artificial Intelligence (PRICAI), November 2021. (to appear)\\nOanh Thi Tran, Viet The Bui. A BERT-based Hierarchical Model for Vietnamese Aspect Based Sentiment Analysis. In the proceedings of the 12th IEEE International Conference on Knowledge and System Engineering (KSE 12), pp. 269-274, 2020  download.',\n",
       " 'Tôi muốn nghiên cứu chủ đề \"Các chỉ số tài chính và phi tài chính về hiệu suất của doanh nghiệp (Financial and non-financial measures of firm performance)\", tôi nên chọn giảng viên hướng dẫn là ai?\\nHướng nghiên cứu của Cô Nguyễn Thị Kim Oanh là về lĩnh vực Accounting and Finance (Kế toán và Tài chính)\\n1. Hệ thống quản lý hiệu suất bền vững (Sustainable performance management systems)\\n2. Báo cáo bền vững (Sustainable Reporting)\\n3. Đánh giá ESG của các công ty niêm yết tại Việt Nam thông qua khai thác dữ liệu và kỹ thuật máy học (ESG scoring of listed firms in Vietnam by employing data mining and machine learning techniques)\\n4. Các yếu tố thúc đẩy ESG trong các công ty niêm yết (Factors driving ESG practices among listed companies)\\n5. Công bố thông tin doanh nghiệp tự nguyện (Voluntary corporate disclosure)\\n6. Các chỉ số tài chính và phi tài chính về hiệu suất của doanh nghiệp (Financial and non-financial measures of firm performance)\\n7. Phát hiện tình trạng tài chính khó khăn và gian lận (Financial distress and fraud detection)',\n",
       " 'Tôi muốn nghiên cứu chủ đề \"Công bố thông tin doanh nghiệp tự nguyện (Voluntary corporate disclosure)\", tôi nên chọn giảng viên hướng dẫn là ai?\\nHướng nghiên cứu của Cô Nguyễn Thị Kim Oanh là về lĩnh vực Accounting and Finance (Kế toán và Tài chính)\\n1. Hệ thống quản lý hiệu suất bền vững (Sustainable performance management systems)\\n2. Báo cáo bền vững (Sustainable Reporting)\\n3. Đánh giá ESG của các công ty niêm yết tại Việt Nam thông qua khai thác dữ liệu và kỹ thuật máy học (ESG scoring of listed firms in Vietnam by employing data mining and machine learning techniques)\\n4. Các yếu tố thúc đẩy ESG trong các công ty niêm yết (Factors driving ESG practices among listed companies)\\n5. Công bố thông tin doanh nghiệp tự nguyện (Voluntary corporate disclosure)\\n6. Các chỉ số tài chính và phi tài chính về hiệu suất của doanh nghiệp (Financial and non-financial measures of firm performance)\\n7. Phát hiện tình trạng tài chính khó khăn và gian lận (Financial distress and fraud detection)',\n",
       " 'Tôi muốn nghiên cứu về lĩnh vực kế toán và tài chính, tôi nên đăng ký giảng viên hướng dẫn là ai?\\nHướng nghiên cứu của Cô Trần Thị Thủy Anh là về lĩnh vực Accounting and Finance (Kế toán và tài chính)\\n1. Đánh giá ESG của các công ty niêm yết tại Việt Nam thông qua khai thác dữ liệu và máy học (ESG scoring of listed firms in Vietnam by employing data mining and machine learning techniques)\\n2. Chuyển đổi IFRS tại Việt Nam (IFRS transformation in Vietnam)',\n",
       " 'Tôi muốn nghiên cứu về lĩnh vực công nghệ thông tin, tôi nên đăng ký giảng viên hướng dẫn là ai?\\nHướng nghiên cứu của Cô Trần Thị Ngân là về lĩnh vực Information Technology (Công nghệ thông tin)\\n1. Mô hình tối ưu hóa (Optimization models)\\n2. Trí tuệ nhân tạo / Học máy / Học sâu (Artificial Intelligence / Machine learning / Deep learning)\\n3. Phát hiện đối tượng (Object detection)',\n",
       " 'Tôi muốn nghiên cứu chủ đề \"Mô hình tối ưu hóa (Optimization models)\", tôi nên chọn giảng viên hướng dẫn là ai?\\nHướng nghiên cứu của Cô Trần Thị Ngân là về lĩnh vực Information Technology (Công nghệ thông tin)\\n1. Mô hình tối ưu hóa (Optimization models)\\n2. Trí tuệ nhân tạo / Học máy / Học sâu (Artificial Intelligence / Machine learning / Deep learning)\\n3. Phát hiện đối tượng (Object detection)',\n",
       " 'Tôi muốn nghiên cứu chủ đề \"Hệ thống quản lý hiệu suất bền vững (Sustainable performance management systems)\", tôi nên chọn giảng viên hướng dẫn là ai?\\nHướng nghiên cứu của Cô Nguyễn Thị Kim Oanh là về lĩnh vực Accounting and Finance (Kế toán và Tài chính)\\n1. Hệ thống quản lý hiệu suất bền vững (Sustainable performance management systems)\\n2. Báo cáo bền vững (Sustainable Reporting)\\n3. Đánh giá ESG của các công ty niêm yết tại Việt Nam thông qua khai thác dữ liệu và kỹ thuật máy học (ESG scoring of listed firms in Vietnam by employing data mining and machine learning techniques)\\n4. Các yếu tố thúc đẩy ESG trong các công ty niêm yết (Factors driving ESG practices among listed companies)\\n5. Công bố thông tin doanh nghiệp tự nguyện (Voluntary corporate disclosure)\\n6. Các chỉ số tài chính và phi tài chính về hiệu suất của doanh nghiệp (Financial and non-financial measures of firm performance)\\n7. Phát hiện tình trạng tài chính khó khăn và gian lận (Financial distress and fraud detection)',\n",
       " 'Tôi muốn nghiên cứu chủ đề \"Các yếu tố thúc đẩy ESG trong các công ty niêm yết (Factors driving ESG practices among listed companies)\", tôi nên chọn giảng viên hướng dẫn là ai?\\nHướng nghiên cứu của Cô Nguyễn Thị Kim Oanh là về lĩnh vực Accounting and Finance (Kế toán và Tài chính)\\n1. Hệ thống quản lý hiệu suất bền vững (Sustainable performance management systems)\\n2. Báo cáo bền vững (Sustainable Reporting)\\n3. Đánh giá ESG của các công ty niêm yết tại Việt Nam thông qua khai thác dữ liệu và kỹ thuật máy học (ESG scoring of listed firms in Vietnam by employing data mining and machine learning techniques)\\n4. Các yếu tố thúc đẩy ESG trong các công ty niêm yết (Factors driving ESG practices among listed companies)\\n5. Công bố thông tin doanh nghiệp tự nguyện (Voluntary corporate disclosure)\\n6. Các chỉ số tài chính và phi tài chính về hiệu suất của doanh nghiệp (Financial and non-financial measures of firm performance)\\n7. Phát hiện tình trạng tài chính khó khăn và gian lận (Financial distress and fraud detection)',\n",
       " 'Tôi muốn nghiên cứu chủ đề \"Trí tuệ nhân tạo / Học máy / Học sâu (Artificial Intelligence / Machine learning / Deep learning)\", tôi nên chọn giảng viên hướng dẫn là ai?\\nHướng nghiên cứu của Cô Trần Thị Ngân là về lĩnh vực Information Technology (Công nghệ thông tin)\\n1. Mô hình tối ưu hóa (Optimization models)\\n2. Trí tuệ nhân tạo / Học máy / Học sâu (Artificial Intelligence / Machine learning / Deep learning)\\n3. Phát hiện đối tượng (Object detection)',\n",
       " 'Tôi muốn nghiên cứu chủ đề \"Đánh giá ESG của các công ty niêm yết tại Việt Nam thông qua khai thác dữ liệu và kỹ thuật máy học (ESG scoring of listed firms in Vietnam by employing data mining and machine learning techniques)\", tôi nên chọn giảng viên hướng dẫn là ai?\\nHướng nghiên cứu của Cô Nguyễn Thị Kim Oanh là về lĩnh vực Accounting and Finance (Kế toán và Tài chính)\\n1. Hệ thống quản lý hiệu suất bền vững (Sustainable performance management systems)\\n2. Báo cáo bền vững (Sustainable Reporting)\\n3. Đánh giá ESG của các công ty niêm yết tại Việt Nam thông qua khai thác dữ liệu và kỹ thuật máy học (ESG scoring of listed firms in Vietnam by employing data mining and machine learning techniques)\\n4. Các yếu tố thúc đẩy ESG trong các công ty niêm yết (Factors driving ESG practices among listed companies)\\n5. Công bố thông tin doanh nghiệp tự nguyện (Voluntary corporate disclosure)\\n6. Các chỉ số tài chính và phi tài chính về hiệu suất của doanh nghiệp (Financial and non-financial measures of firm performance)\\n7. Phát hiện tình trạng tài chính khó khăn và gian lận (Financial distress and fraud detection)',\n",
       " 'Tôi muốn nghiên cứu chủ đề \"Chuyển đổi IFRS tại Việt Nam (IFRS transformation in Vietnam)\", tôi nên chọn giảng viên hướng dẫn là ai?\\nHướng nghiên cứu của Cô Trần Thị Thủy Anh là về lĩnh vực Accounting and Finance (Kế toán và tài chính)\\n1. Đánh giá ESG của các công ty niêm yết tại Việt Nam thông qua khai thác dữ liệu và máy học (ESG scoring of listed firms in Vietnam by employing data mining and machine learning techniques)\\n2. Chuyển đổi IFRS tại Việt Nam (IFRS transformation in Vietnam)']"
      ]
     },
     "execution_count": 14,
     "metadata": {},
     "output_type": "execute_result"
    }
   ],
   "source": [
    "results"
   ]
  },
  {
   "cell_type": "code",
   "execution_count": 15,
   "metadata": {},
   "outputs": [
    {
     "data": {
      "text/plain": [
       "tensor([0.6055, 0.5977, 0.5898, 0.5859, 0.5625, 0.5586, 0.5586, 0.5586, 0.5547,\n",
       "        0.5547, 0.5547, 0.5547, 0.5508, 0.5508, 0.5508, 0.5469, 0.5469, 0.5469,\n",
       "        0.5430, 0.5430, 0.5430, 0.5430, 0.5352, 0.5352, 0.5312, 0.5312, 0.5273,\n",
       "        0.5273, 0.5234, 0.5195, 0.5195, 0.5117, 0.5117, 0.5078, 0.5078, 0.5078,\n",
       "        0.5078, 0.5078, 0.5039, 0.5039, 0.5000, 0.4980, 0.4980, 0.4961, 0.4961,\n",
       "        0.4961, 0.4863, 0.4785, 0.4785, 0.4688], device='cuda:0',\n",
       "       dtype=torch.bfloat16)"
      ]
     },
     "execution_count": 15,
     "metadata": {},
     "output_type": "execute_result"
    }
   ],
   "source": [
    "scores"
   ]
  },
  {
   "cell_type": "code",
   "execution_count": 16,
   "metadata": {},
   "outputs": [
    {
     "data": {
      "text/plain": [
       "tensor([1.7422, 1.2031, 0.6094], device='cuda:0', dtype=torch.bfloat16)"
      ]
     },
     "execution_count": 16,
     "metadata": {},
     "output_type": "execute_result"
    }
   ],
   "source": [
    "top_scores"
   ]
  },
  {
   "cell_type": "code",
   "execution_count": 17,
   "metadata": {},
   "outputs": [
    {
     "data": {
      "text/plain": [
       "['Thông tin liên hệ cơ bản của PGS. TS.Trần Thị Oanh là gì?\\nPGS. TS.Trần Thị Oanh:\\n\\nChức vụ: Phó trưởng Khoa\\nHọc hàm, học vị: Phó Giáo sư  Tiến sĩ\\nNgoại ngữ: Tiếng Anh\\nEmail: tranthioanh@vnu.edu.vn\\nĐịa chỉ:Khoa Các khoa học ứng dụng, P408, nhà C, Làng sinh viên HACINCO, 79 Ngụy Như Kon Tum, Nhân Chính, Thanh Xuân',\n",
       " 'Chức vụ của PGS. TS.Trần Thị Oanh là gì?\\nPGS. TS.Trần Thị Oanh:\\n\\nChức vụ: Phó trưởng Khoa\\nHọc hàm, học vị: Phó Giáo sư  Tiến sĩ\\nNgoại ngữ: Tiếng Anh\\nEmail: tranthioanh@vnu.edu.vn\\nĐịa chỉ:Khoa Các khoa học ứng dụng, P408, nhà C, Làng sinh viên HACINCO, 79 Ngụy Như Kon Tum, Nhân Chính, Thanh Xuân',\n",
       " 'Bằng cấp của PGS. TS. Trần Thị Oanh là gì?\\nPGS. TS.Trần Thị Oanh:\\n\\nCử nhân: Công nghệ Thông tin, Đại học Công nghệ – ĐHQG Hà Nội\\nThạc sĩ: Hệ thống thông tin, Đại học Công nghệ – ĐHQG Hà Nội\\nTiến sĩ: Khoa học Máy tính, Viện khoa học và công nghệ tiên tiến Nhật Bản']"
      ]
     },
     "execution_count": 17,
     "metadata": {},
     "output_type": "execute_result"
    }
   ],
   "source": [
    "rerank_result"
   ]
  },
  {
   "cell_type": "code",
   "execution_count": null,
   "metadata": {},
   "outputs": [],
   "source": []
  }
 ],
 "metadata": {
  "kernelspec": {
   "display_name": ".venv",
   "language": "python",
   "name": "python3"
  },
  "language_info": {
   "codemirror_mode": {
    "name": "ipython",
    "version": 3
   },
   "file_extension": ".py",
   "mimetype": "text/x-python",
   "name": "python",
   "nbconvert_exporter": "python",
   "pygments_lexer": "ipython3",
   "version": "3.10.12"
  }
 },
 "nbformat": 4,
 "nbformat_minor": 2
}
